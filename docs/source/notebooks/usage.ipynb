{
 "cells": [
  {
   "cell_type": "markdown",
   "metadata": {},
   "source": [
    "# Basic Usage"
   ]
  },
  {
   "cell_type": "markdown",
   "metadata": {},
   "source": [
    "The MatFeaLib package offers a variety of atomic feature collections that can be utilized for the generation of elemental and compositional features. The list of included collections can be accessed via:"
   ]
  },
  {
   "cell_type": "code",
   "execution_count": 1,
   "metadata": {},
   "outputs": [
    {
     "data": {
      "text/html": [
       "<style type=\"text/css\">\n",
       "#T_e04d9 th {\n",
       "  text-align: left;\n",
       "}\n",
       "#T_e04d9_row0_col0, #T_e04d9_row0_col1, #T_e04d9_row1_col0, #T_e04d9_row1_col1, #T_e04d9_row2_col0, #T_e04d9_row2_col1, #T_e04d9_row3_col0, #T_e04d9_row3_col1, #T_e04d9_row4_col0, #T_e04d9_row4_col1, #T_e04d9_row5_col0, #T_e04d9_row5_col1, #T_e04d9_row6_col0, #T_e04d9_row6_col1, #T_e04d9_row7_col0, #T_e04d9_row7_col1, #T_e04d9_row8_col0, #T_e04d9_row8_col1, #T_e04d9_row9_col0, #T_e04d9_row9_col1, #T_e04d9_row10_col0, #T_e04d9_row10_col1, #T_e04d9_row11_col0, #T_e04d9_row11_col1, #T_e04d9_row12_col0, #T_e04d9_row12_col1, #T_e04d9_row13_col0, #T_e04d9_row13_col1, #T_e04d9_row14_col0, #T_e04d9_row14_col1, #T_e04d9_row15_col0, #T_e04d9_row15_col1 {\n",
       "  text-align: left;\n",
       "}\n",
       "</style>\n",
       "<table id=\"T_e04d9\">\n",
       "  <thead>\n",
       "    <tr>\n",
       "      <th class=\"blank level0\" >&nbsp;</th>\n",
       "      <th id=\"T_e04d9_level0_col0\" class=\"col_heading level0 col0\" >Collection</th>\n",
       "      <th id=\"T_e04d9_level0_col1\" class=\"col_heading level0 col1\" >Description</th>\n",
       "    </tr>\n",
       "  </thead>\n",
       "  <tbody>\n",
       "    <tr>\n",
       "      <th id=\"T_e04d9_level0_row0\" class=\"row_heading level0 row0\" >1</th>\n",
       "      <td id=\"T_e04d9_row0_col0\" class=\"data row0 col0\" >dft_hse06</td>\n",
       "      <td id=\"T_e04d9_row0_col1\" class=\"data row0 col1\" >Several calculated atomic properties by using the HSE06 hybrid functional, the numeric atom-centered orbitals (NAOs) basis set, and the \"really_tight\" setting, accessible from FHI as the source [https://gitlab.mpcdf.mpg.de/nomad-lab/atomic_features_fhi_aims_really_tight/-/tree/master/csv].</td>\n",
       "    </tr>\n",
       "    <tr>\n",
       "      <th id=\"T_e04d9_level0_row2\" class=\"row_heading level0 row2\" >2</th>\n",
       "      <td id=\"T_e04d9_row2_col0\" class=\"data row2 col0\" >dft_pbe</td>\n",
       "      <td id=\"T_e04d9_row2_col1\" class=\"data row2 col1\" >Several calculated atomic properties by using the PBE approximation, the numeric atom-centered orbitals (NAOs) basis set, and the \"really_tight\" setting, accessible from FHI as the source [https://gitlab.mpcdf.mpg.de/nomad-lab/atomic_features_fhi_aims_really_tight/-/tree/master/csv].</td>\n",
       "    </tr>\n",
       "    <tr>\n",
       "      <th id=\"T_e04d9_level0_row11\" class=\"row_heading level0 row11\" >3</th>\n",
       "      <td id=\"T_e04d9_row11_col0\" class=\"data row11 col0\" >dft_revpbe_spins</td>\n",
       "      <td id=\"T_e04d9_row11_col1\" class=\"data row11 col1\" >Several calculated atomic properties by including spins of electrons and using the revPBE approximation, the numeric atom-centered orbitals (NAOs) basis set, and the \"really_tight\" setting, accessible from FHI as the source [https://gitlab.mpcdf.mpg.de/nomad-lab/atomic_features_fhi_aims_really_tight/-/tree/master/csv].</td>\n",
       "    </tr>\n",
       "    <tr>\n",
       "      <th id=\"T_e04d9_level0_row14\" class=\"row_heading level0 row14\" >4</th>\n",
       "      <td id=\"T_e04d9_row14_col0\" class=\"data row14 col0\" >mendeleev</td>\n",
       "      <td id=\"T_e04d9_row14_col1\" class=\"data row14 col1\" >The atomic properties from the mendeleev package [https://mendeleev.readthedocs.io/en/stable/].</td>\n",
       "    </tr>\n",
       "    <tr>\n",
       "      <th id=\"T_e04d9_level0_row15\" class=\"row_heading level0 row15\" >5</th>\n",
       "      <td id=\"T_e04d9_row15_col0\" class=\"data row15 col0\" >pymatgen</td>\n",
       "      <td id=\"T_e04d9_row15_col1\" class=\"data row15 col1\" >The atomic properties from the pymatgen package [https://pymatgen.org].</td>\n",
       "    </tr>\n",
       "  </tbody>\n",
       "</table>\n"
      ],
      "text/plain": [
       "<pandas.io.formats.style.Styler at 0x14593df31450>"
      ]
     },
     "execution_count": 1,
     "metadata": {},
     "output_type": "execute_result"
    }
   ],
   "source": [
    "import matfealib as mfl\n",
    "mfl.available_collection()"
   ]
  },
  {
   "cell_type": "markdown",
   "metadata": {},
   "source": [
    "These collections can be utilized simply by the `mfl.\"collection name\"` command. Each collection contains various atomic features. We can call all available collection features. Furthermore, in some cases, we may want to select specific features. The following command displays the feature names included in a selected collection:"
   ]
  },
  {
   "cell_type": "code",
   "execution_count": 2,
   "metadata": {},
   "outputs": [
    {
     "data": {
      "text/plain": [
       "Index(['chemical_symbol', 'atomic_number', 'atomic_energy_hfomo',\n",
       "       'atomic_energy_hpomo', 'atomic_energy_lfumo', 'atomic_energy_lpumo',\n",
       "       'electron_affinity_energy_difference',\n",
       "       'ionization_energy_energy_difference',\n",
       "       'electron_affinity_half_charged_homo',\n",
       "       'ionization_energy_half_charged_homo', 'atomic_radius_neg_charged_s',\n",
       "       'atomic_radius_neg_charged_p', 'atomic_radius_neg_charged_d',\n",
       "       'atomic_radius_neg_charged', 'atomic_radius_neg_half_charged_s',\n",
       "       'atomic_radius_neg_half_charged_p', 'atomic_radius_neg_half_charged_d',\n",
       "       'atomic_radius_neg_half_charged', 'atomic_radius_s', 'atomic_radius_p',\n",
       "       'atomic_radius_d', 'atomic_radius', 'atomic_radius_half_charged_s',\n",
       "       'atomic_radius_half_charged_p', 'atomic_radius_half_charged_d',\n",
       "       'atomic_radius_half_charged', 'atomic_radius_charged_s',\n",
       "       'atomic_radius_charged_p', 'atomic_radius_charged_d',\n",
       "       'atomic_radius_charged'],\n",
       "      dtype='object')"
      ]
     },
     "execution_count": 2,
     "metadata": {},
     "output_type": "execute_result"
    }
   ],
   "source": [
    "mfl.available_features(mfl.dft_pbe)"
   ]
  },
  {
   "cell_type": "markdown",
   "metadata": {},
   "source": [
    "To fetch atomic features for a single material, a list, or a dataframe of materials, the `fetch_elemental_features` function should be used. The material(s) and feature collection are both essential."
   ]
  },
  {
   "cell_type": "code",
   "execution_count": 3,
   "metadata": {},
   "outputs": [
    {
     "data": {
      "text/html": [
       "<div>\n",
       "<style scoped>\n",
       "    .dataframe tbody tr th:only-of-type {\n",
       "        vertical-align: middle;\n",
       "    }\n",
       "\n",
       "    .dataframe tbody tr th {\n",
       "        vertical-align: top;\n",
       "    }\n",
       "\n",
       "    .dataframe thead th {\n",
       "        text-align: right;\n",
       "    }\n",
       "</style>\n",
       "<table border=\"1\" class=\"dataframe\">\n",
       "  <thead>\n",
       "    <tr style=\"text-align: right;\">\n",
       "      <th></th>\n",
       "      <th>chemical_symbol_1_Al</th>\n",
       "      <th>chemical_symbol_2_O</th>\n",
       "      <th>atomic_number_1_Al</th>\n",
       "      <th>atomic_number_2_O</th>\n",
       "      <th>atomic_energy_hfomo_1_Al</th>\n",
       "      <th>atomic_energy_hfomo_2_O</th>\n",
       "      <th>atomic_energy_hpomo_1_Al</th>\n",
       "      <th>atomic_energy_hpomo_2_O</th>\n",
       "      <th>atomic_energy_lfumo_1_Al</th>\n",
       "      <th>atomic_energy_lfumo_2_O</th>\n",
       "      <th>...</th>\n",
       "      <th>atomic_radius_half_charged_1_Al</th>\n",
       "      <th>atomic_radius_half_charged_2_O</th>\n",
       "      <th>atomic_radius_charged_s_1_Al</th>\n",
       "      <th>atomic_radius_charged_s_2_O</th>\n",
       "      <th>atomic_radius_charged_p_1_Al</th>\n",
       "      <th>atomic_radius_charged_p_2_O</th>\n",
       "      <th>atomic_radius_charged_d_1_Al</th>\n",
       "      <th>atomic_radius_charged_d_2_O</th>\n",
       "      <th>atomic_radius_charged_1_Al</th>\n",
       "      <th>atomic_radius_charged_2_O</th>\n",
       "    </tr>\n",
       "  </thead>\n",
       "  <tbody>\n",
       "    <tr>\n",
       "      <th>Al2O3</th>\n",
       "      <td>Al</td>\n",
       "      <td>O</td>\n",
       "      <td>13.0</td>\n",
       "      <td>8.0</td>\n",
       "      <td>-1.220848971989875e-18</td>\n",
       "      <td>-1.446683777574739e-18</td>\n",
       "      <td>-4.09748659886496e-19</td>\n",
       "      <td>-1.446683777574739e-18</td>\n",
       "      <td>-4.09748659886496e-19</td>\n",
       "      <td>5.006385374078595e-19</td>\n",
       "      <td>...</td>\n",
       "      <td>1.31685</td>\n",
       "      <td>0.42225</td>\n",
       "      <td>1.05655</td>\n",
       "      <td>0.45145</td>\n",
       "      <td>1.2506500000000005</td>\n",
       "      <td>0.41005</td>\n",
       "      <td>nan</td>\n",
       "      <td>nan</td>\n",
       "      <td>1.05655</td>\n",
       "      <td>0.41015</td>\n",
       "    </tr>\n",
       "  </tbody>\n",
       "</table>\n",
       "<p>1 rows × 60 columns</p>\n",
       "</div>"
      ],
      "text/plain": [
       "      chemical_symbol_1_Al chemical_symbol_2_O atomic_number_1_Al  \\\n",
       "Al2O3                   Al                   O               13.0   \n",
       "\n",
       "      atomic_number_2_O atomic_energy_hfomo_1_Al atomic_energy_hfomo_2_O  \\\n",
       "Al2O3               8.0   -1.220848971989875e-18  -1.446683777574739e-18   \n",
       "\n",
       "      atomic_energy_hpomo_1_Al atomic_energy_hpomo_2_O  \\\n",
       "Al2O3    -4.09748659886496e-19  -1.446683777574739e-18   \n",
       "\n",
       "      atomic_energy_lfumo_1_Al atomic_energy_lfumo_2_O  ...  \\\n",
       "Al2O3    -4.09748659886496e-19   5.006385374078595e-19  ...   \n",
       "\n",
       "      atomic_radius_half_charged_1_Al atomic_radius_half_charged_2_O  \\\n",
       "Al2O3                         1.31685                        0.42225   \n",
       "\n",
       "      atomic_radius_charged_s_1_Al atomic_radius_charged_s_2_O  \\\n",
       "Al2O3                      1.05655                     0.45145   \n",
       "\n",
       "      atomic_radius_charged_p_1_Al atomic_radius_charged_p_2_O  \\\n",
       "Al2O3           1.2506500000000005                     0.41005   \n",
       "\n",
       "      atomic_radius_charged_d_1_Al atomic_radius_charged_d_2_O  \\\n",
       "Al2O3                          nan                         nan   \n",
       "\n",
       "      atomic_radius_charged_1_Al atomic_radius_charged_2_O  \n",
       "Al2O3                    1.05655                   0.41015  \n",
       "\n",
       "[1 rows x 60 columns]"
      ]
     },
     "execution_count": 3,
     "metadata": {},
     "output_type": "execute_result"
    }
   ],
   "source": [
    "mfl.fetch_elemental_features(\"Al2O3\", collection=mfl.dft_pbe, features='all')"
   ]
  },
  {
   "cell_type": "markdown",
   "metadata": {},
   "source": [
    "The MatFeaLib Also has the `fetch_statistical_features` function to fetch statistical measures of atomic features for samples. Similar to before, both the material(s) and feature collection are necessary but the type of statistical measures that are accessible through the package can be chosen arbitrarily."
   ]
  },
  {
   "cell_type": "code",
   "execution_count": 4,
   "metadata": {},
   "outputs": [
    {
     "data": {
      "text/html": [
       "<div>\n",
       "<style scoped>\n",
       "    .dataframe tbody tr th:only-of-type {\n",
       "        vertical-align: middle;\n",
       "    }\n",
       "\n",
       "    .dataframe tbody tr th {\n",
       "        vertical-align: top;\n",
       "    }\n",
       "\n",
       "    .dataframe thead th {\n",
       "        text-align: right;\n",
       "    }\n",
       "</style>\n",
       "<table border=\"1\" class=\"dataframe\">\n",
       "  <thead>\n",
       "    <tr style=\"text-align: right;\">\n",
       "      <th></th>\n",
       "      <th>formula</th>\n",
       "      <th>atomic_radius_charged_min</th>\n",
       "      <th>atomic_radius_charged_max</th>\n",
       "      <th>atomic_radius_charged_sum</th>\n",
       "      <th>atomic_radius_charged_diff</th>\n",
       "      <th>atomic_radius_charged_mean</th>\n",
       "      <th>atomic_radius_charged_std</th>\n",
       "      <th>atomic_radius_charged_gmean</th>\n",
       "      <th>atomic_radius_s_min</th>\n",
       "      <th>atomic_radius_s_max</th>\n",
       "      <th>...</th>\n",
       "      <th>atomic_radius_s_mean</th>\n",
       "      <th>atomic_radius_s_std</th>\n",
       "      <th>atomic_radius_s_gmean</th>\n",
       "      <th>atomic_radius_p_min</th>\n",
       "      <th>atomic_radius_p_max</th>\n",
       "      <th>atomic_radius_p_sum</th>\n",
       "      <th>atomic_radius_p_diff</th>\n",
       "      <th>atomic_radius_p_mean</th>\n",
       "      <th>atomic_radius_p_std</th>\n",
       "      <th>atomic_radius_p_gmean</th>\n",
       "    </tr>\n",
       "  </thead>\n",
       "  <tbody>\n",
       "    <tr>\n",
       "      <th>0</th>\n",
       "      <td>SiC</td>\n",
       "      <td>0.58615</td>\n",
       "      <td>1.06635</td>\n",
       "      <td>1.6525</td>\n",
       "      <td>0.4802</td>\n",
       "      <td>0.82625</td>\n",
       "      <td>0.2401</td>\n",
       "      <td>0.790595</td>\n",
       "      <td>0.64185</td>\n",
       "      <td>0.94695</td>\n",
       "      <td>...</td>\n",
       "      <td>0.7944</td>\n",
       "      <td>0.15255</td>\n",
       "      <td>0.779615</td>\n",
       "      <td>0.63665</td>\n",
       "      <td>1.14195</td>\n",
       "      <td>1.7786</td>\n",
       "      <td>0.5053</td>\n",
       "      <td>0.88930</td>\n",
       "      <td>0.25265</td>\n",
       "      <td>0.852656</td>\n",
       "    </tr>\n",
       "    <tr>\n",
       "      <th>1</th>\n",
       "      <td>Al2O3</td>\n",
       "      <td>0.41015</td>\n",
       "      <td>1.05655</td>\n",
       "      <td>1.4667</td>\n",
       "      <td>0.6464</td>\n",
       "      <td>0.73335</td>\n",
       "      <td>0.3232</td>\n",
       "      <td>0.658289</td>\n",
       "      <td>0.46085</td>\n",
       "      <td>1.10595</td>\n",
       "      <td>...</td>\n",
       "      <td>0.7834</td>\n",
       "      <td>0.32255</td>\n",
       "      <td>0.713917</td>\n",
       "      <td>0.43325</td>\n",
       "      <td>1.39965</td>\n",
       "      <td>1.8329</td>\n",
       "      <td>0.9664</td>\n",
       "      <td>0.91645</td>\n",
       "      <td>0.48320</td>\n",
       "      <td>0.778716</td>\n",
       "    </tr>\n",
       "  </tbody>\n",
       "</table>\n",
       "<p>2 rows × 22 columns</p>\n",
       "</div>"
      ],
      "text/plain": [
       "  formula  atomic_radius_charged_min  atomic_radius_charged_max  \\\n",
       "0     SiC                    0.58615                    1.06635   \n",
       "1   Al2O3                    0.41015                    1.05655   \n",
       "\n",
       "   atomic_radius_charged_sum  atomic_radius_charged_diff  \\\n",
       "0                     1.6525                      0.4802   \n",
       "1                     1.4667                      0.6464   \n",
       "\n",
       "   atomic_radius_charged_mean  atomic_radius_charged_std  \\\n",
       "0                     0.82625                     0.2401   \n",
       "1                     0.73335                     0.3232   \n",
       "\n",
       "   atomic_radius_charged_gmean  atomic_radius_s_min  atomic_radius_s_max  ...  \\\n",
       "0                     0.790595              0.64185              0.94695  ...   \n",
       "1                     0.658289              0.46085              1.10595  ...   \n",
       "\n",
       "   atomic_radius_s_mean  atomic_radius_s_std  atomic_radius_s_gmean  \\\n",
       "0                0.7944              0.15255               0.779615   \n",
       "1                0.7834              0.32255               0.713917   \n",
       "\n",
       "   atomic_radius_p_min  atomic_radius_p_max  atomic_radius_p_sum  \\\n",
       "0              0.63665              1.14195               1.7786   \n",
       "1              0.43325              1.39965               1.8329   \n",
       "\n",
       "   atomic_radius_p_diff  atomic_radius_p_mean  atomic_radius_p_std  \\\n",
       "0                0.5053               0.88930              0.25265   \n",
       "1                0.9664               0.91645              0.48320   \n",
       "\n",
       "   atomic_radius_p_gmean  \n",
       "0               0.852656  \n",
       "1               0.778716  \n",
       "\n",
       "[2 rows x 22 columns]"
      ]
     },
     "execution_count": 4,
     "metadata": {},
     "output_type": "execute_result"
    }
   ],
   "source": [
    "mfl.fetch_statistical_features([\"SiC\", \"Al2O3\"], collection=mfl.dft_pbe, features=['atomic_radius_charged', 'atomic_radius_s', 'atomic_radius_p'])"
   ]
  }
 ],
 "metadata": {
  "kernelspec": {
   "display_name": "Python 3",
   "language": "python",
   "name": "python3"
  },
  "language_info": {
   "codemirror_mode": {
    "name": "ipython",
    "version": 3
   },
   "file_extension": ".py",
   "mimetype": "text/x-python",
   "name": "python",
   "nbconvert_exporter": "python",
   "pygments_lexer": "ipython3",
   "version": "3.11.9"
  }
 },
 "nbformat": 4,
 "nbformat_minor": 2
}
